{
 "cells": [
  {
   "cell_type": "code",
   "execution_count": 2,
   "metadata": {},
   "outputs": [
    {
     "name": "stdout",
     "output_type": "stream",
     "text": [
      "Pair with given sum 16 is (10, 6)\n"
     ]
    }
   ],
   "source": [
    "def printPairs(arr, arr_size, sum): \n",
    "      \n",
    "    # Create an empty hash set \n",
    "    s = set() \n",
    "      \n",
    "    for i in range(0, arr_size): \n",
    "        temp = sum-arr[i] \n",
    "        if (temp in s): \n",
    "            print (\"Pair with given sum \"+ str(sum) + \" is (\" + str(arr[i]) + \", \" + str(temp) + \")\")\n",
    "        s.add(arr[i]) \n",
    "  \n",
    "# driver program to check the above function \n",
    "A = [1, 4, 45, 6, 10, 8] \n",
    "n = 16\n",
    "printPairs(A, len(A), n) \n",
    "  "
   ]
  },
  {
   "cell_type": "code",
   "execution_count": null,
   "metadata": {},
   "outputs": [],
   "source": []
  }
 ],
 "metadata": {
  "kernelspec": {
   "display_name": "Python 3",
   "language": "python",
   "name": "python3"
  },
  "language_info": {
   "codemirror_mode": {
    "name": "ipython",
    "version": 3
   },
   "file_extension": ".py",
   "mimetype": "text/x-python",
   "name": "python",
   "nbconvert_exporter": "python",
   "pygments_lexer": "ipython3",
   "version": "3.7.6"
  }
 },
 "nbformat": 4,
 "nbformat_minor": 4
}
